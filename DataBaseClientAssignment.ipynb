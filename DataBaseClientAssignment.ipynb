{
 "cells": [
  {
   "attachments": {},
   "cell_type": "markdown",
   "metadata": {},
   "source": []
  },
  {
   "cell_type": "code",
   "execution_count": 19,
   "metadata": {},
   "outputs": [
    {
     "name": "stdout",
     "output_type": "stream",
     "text": [
      "Successfully connected to the database: littlelemondb\n"
     ]
    }
   ],
   "source": [
    "import mysql.connector as connector\n",
    "import mysql.connector.errors as Errors\n",
    "dbconfig = {\n",
    "    \"user\": \"meta\",\n",
    "    \"password\": \"Database\",\n",
    "    \"database\": \"littlelemondb\",\n",
    "    \"host\": \"127.0.0.1\",\n",
    "    \"auth_plugin\": \"mysql_native_password\"\n",
    "}\n",
    "\n",
    "try: \n",
    "    connection = connector.connect(**dbconfig)\n",
    "    print('Successfully connected to the database: {}'.format(connection.database))\n",
    "except Errors.Error as err:\n",
    "    print(\"There is an error:\",err)\n",
    "cursor = connection.cursor()\n",
    "cursor.execute(\"Use littlelemondb;\")\n",
    "\n"
   ]
  },
  {
   "attachments": {},
   "cell_type": "markdown",
   "metadata": {},
   "source": []
  },
  {
   "cell_type": "code",
   "execution_count": 20,
   "metadata": {},
   "outputs": [
    {
     "name": "stdout",
     "output_type": "stream",
     "text": [
      "[('beverage',), ('bookings',), ('customerdetails',), ('menus',), ('orderdeliverystatus',), ('orders',), ('ordersview',), ('sides',), ('staff',), ('summaryview',)]\n"
     ]
    }
   ],
   "source": [
    "cursor.execute(\"\"\"show tables\"\"\")\n",
    "results = cursor.fetchall()\n",
    "print(results)"
   ]
  },
  {
   "cell_type": "code",
   "execution_count": 22,
   "metadata": {},
   "outputs": [
    {
     "name": "stdout",
     "output_type": "stream",
     "text": [
      "(Decimal('79.99'), 'Bob', 'Smith', 'bobsmith@example.com')\n",
      "(Decimal('59.99'), 'Jane', 'Michael', 'janemichael@example.com')\n"
     ]
    }
   ],
   "source": [
    "sql_query = \"\"\" \n",
    "SELECT COST AS TOTALCOST, CUSTOMERFIRSTNAME,CUSTOMERLASTNAME,EMAIL\n",
    "    FROM ORDERS O\n",
    "    INNER JOIN CUSTOMERDETAILS C ON O.CUSTOMERID = C.CUSTOMERID\n",
    "WHERE COST >=50;\"\"\"\n",
    "\n",
    "cursor.execute(sql_query)\n",
    "for row in cursor:\n",
    "    print(row)"
   ]
  }
 ],
 "metadata": {
  "kernelspec": {
   "display_name": "Python 3",
   "language": "python",
   "name": "python3"
  },
  "language_info": {
   "codemirror_mode": {
    "name": "ipython",
    "version": 3
   },
   "file_extension": ".py",
   "mimetype": "text/x-python",
   "name": "python",
   "nbconvert_exporter": "python",
   "pygments_lexer": "ipython3",
   "version": "3.11.3"
  },
  "orig_nbformat": 4
 },
 "nbformat": 4,
 "nbformat_minor": 2
}
