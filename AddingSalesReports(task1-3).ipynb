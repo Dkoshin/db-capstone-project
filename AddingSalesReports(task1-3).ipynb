{
 "cells": [
  {
   "attachments": {},
   "cell_type": "markdown",
   "metadata": {},
   "source": []
  },
  {
   "cell_type": "code",
   "execution_count": 69,
   "metadata": {},
   "outputs": [
    {
     "name": "stdout",
     "output_type": "stream",
     "text": [
      "Successfully connected to the database: littlelemondb\n"
     ]
    }
   ],
   "source": [
    "import mysql.connector as connector\n",
    "import mysql.connector.errors as Errors\n",
    "dbconfig = {\n",
    "    \"user\": \"meta\",\n",
    "    \"password\": \"Database\",\n",
    "    \"database\": \"littlelemondb\",\n",
    "    \"host\": \"127.0.0.1\",\n",
    "    \"auth_plugin\": \"mysql_native_password\"\n",
    "}\n",
    "\n",
    "try: \n",
    "    connection = connector.connect(**dbconfig)\n",
    "    print('Successfully connected to the database: {}'.format(connection.database))\n",
    "except Errors.Error as err:\n",
    "    print(\"There is an error:\",err)\n",
    "cursor = connection.cursor()\n",
    "cursor.execute(\"Use littlelemondb;\")\n",
    "\n"
   ]
  },
  {
   "cell_type": "code",
   "execution_count": 70,
   "metadata": {},
   "outputs": [],
   "source": [
    "#task 1 Create Orders\n",
    "# cursor.execute(\"\"\"CREATE VIEW OrdersView as\n",
    "# SELECT OrderID, Quantity, Cost\n",
    "# FROM Orders; \"\"\")\n",
    "\n",
    "#task 2\n",
    "# cursor.execute(\"\"\"CREATE VIEW SummaryView as SELECT c.CustomerID, CONCAT(c.CustomerFirstName,\" \",c.CustomerLastName) as FullName, o.OrderID,O.Cost, m.Cuisine MenuName,m.MenuType as Menu,b.Name as Beverage,s.Name as SideDish\n",
    "\n",
    "# FROM Orders o Inner join customerdetails c on o.CustomerID = c.CustomerID\n",
    "# INNER JOIN menus m ON O.MenuID = m.MenuID\n",
    "# INNER JOIN beverage B ON m.BeverageID = b.BeverageID\n",
    "# INNER JOIN Sides s ON m.SIdeID = s.SideID\n",
    "# WHERE O.COST >25;\"\"\")\n",
    "\n"
   ]
  },
  {
   "cell_type": "code",
   "execution_count": 73,
   "metadata": {},
   "outputs": [
    {
     "name": "stdout",
     "output_type": "stream",
     "text": [
      " task #1: Orderview as follows\n",
      "\n",
      "('OrderID', 'Quantity', 'Cost')\n",
      "(1, 2, Decimal('20.99'))\n",
      "(2, 1, Decimal('7.99'))\n",
      "(3, 4, Decimal('49.99'))\n",
      "(4, 3, Decimal('29.99'))\n",
      "(5, 2, Decimal('19.99'))\n",
      "\n",
      " task #2 Summary View as follows\n",
      "\n",
      "('CustomerID', 'FullName', 'OrderID', 'Cost', 'MenuName', 'Menu', 'Beverage', 'SideDish')\n",
      "(2, 'Jane Michael', 3, Decimal('49.99'), 'Mexican', 'Dinner', 'Sprite', 'Onion Rings')\n",
      "(3, 'Bob Smith', 4, Decimal('29.99'), 'Italian', 'Dinner', 'Fanta', 'Onion Rings')\n"
     ]
    }
   ],
   "source": [
    "print(\" task #1: Orderview as follows\\n\")\n",
    "cursor.execute(\"\"\"SELECT * FROM ORDERSVIEW;\"\"\")\n",
    "columns = cursor.column_names\n",
    "print(columns)\n",
    "for row in cursor:\n",
    "    print(row)\n",
    "\n",
    "print(\"\\n task #2 Summary View as follows\\n\")\n",
    "cursor.execute(\"\"\"SELECT * FROM SUMMARYVIEW;\"\"\")\n",
    "columns = cursor.column_names\n",
    "print(columns)\n",
    "for row in cursor:\n",
    "    print(row)\n",
    "\n"
   ]
  },
  {
   "attachments": {},
   "cell_type": "markdown",
   "metadata": {},
   "source": []
  },
  {
   "cell_type": "code",
   "execution_count": 74,
   "metadata": {},
   "outputs": [
    {
     "name": "stdout",
     "output_type": "stream",
     "text": [
      "\n",
      " Task 3: Query to identify Menu with >= 2 orders using ANY function and subquery\n",
      "\n",
      "('MENUNAME',)\n",
      "('American',)\n",
      "('Mexican',)\n"
     ]
    }
   ],
   "source": [
    "cursor.execute(\"\"\"\n",
    "SELECT M.CUISINE AS MENUNAME\n",
    "FROM MENUS M WHERE M.MENUID = ANY(SELECT O.MENUID\n",
    "FROM ORDERS O\n",
    "GROUP BY MENUID\n",
    "HAVING COUNT(ORDERID) >=2);\n",
    "\n",
    "\"\"\")\n",
    "print(\"\\n Task 3: Query to identify Menu with >= 2 orders using ANY function and subquery\\n\")\n",
    "columns = cursor.column_names\n",
    "print(columns)\n",
    "for row in cursor:\n",
    "    print(row)"
   ]
  }
 ],
 "metadata": {
  "kernelspec": {
   "display_name": "Python 3",
   "language": "python",
   "name": "python3"
  },
  "language_info": {
   "codemirror_mode": {
    "name": "ipython",
    "version": 3
   },
   "file_extension": ".py",
   "mimetype": "text/x-python",
   "name": "python",
   "nbconvert_exporter": "python",
   "pygments_lexer": "ipython3",
   "version": "3.11.3"
  },
  "orig_nbformat": 4
 },
 "nbformat": 4,
 "nbformat_minor": 2
}
